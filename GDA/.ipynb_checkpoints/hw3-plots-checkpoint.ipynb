{
 "cells": [
  {
   "cell_type": "code",
   "execution_count": 120,
   "metadata": {},
   "outputs": [],
   "source": [
    "%matplotlib inline\n",
    "import matplotlib\n",
    "import numpy as np\n",
    "import matplotlib.pyplot as plt\n",
    "from scipy.stats import multivariate_normal\n",
    "from scipy import stats\n",
    "from numpy import linalg as LA\n",
    "from numpy.random import normal\n"
   ]
  },
  {
   "cell_type": "markdown",
   "metadata": {},
   "source": [
    "# 2. Isocontours of Normal Distributions "
   ]
  },
  {
   "cell_type": "markdown",
   "metadata": {},
   "source": [
    "(a) $f(\\mu,\\Sigma)$, where $\\mu=\\Biggl[\\begin{matrix}1\\\\2\\end{matrix}\\Biggr]$ and $\\Sigma = \\Biggl[\\begin{matrix}1 & 0\\\\ 0 & 2\\end{matrix}\\Biggr]$ "
   ]
  },
  {
   "cell_type": "code",
   "execution_count": 28,
   "metadata": {},
   "outputs": [
    {
     "data": {
      "text/plain": [
       "<matplotlib.contour.QuadContourSet at 0xd75bd0>"
      ]
     },
     "execution_count": 28,
     "metadata": {},
     "output_type": "execute_result"
    },
    {
     "data": {
      "image/png": "[encoded data removed]",
      "text/plain": [
       "<Figure size 432x288 with 1 Axes>"
      ]
     },
     "metadata": {
      "needs_background": "light"
     },
     "output_type": "display_data"
    }
   ],
   "source": [
    "x, y = np.mgrid[-1:3:.01, -1:4:.01]\n",
    "pos = np.dstack((x, y))\n",
    "rv = multivariate_normal([1, 2], [[1, 0], [0, 2]])\n",
    "fig2 = plt.figure()\n",
    "ax2 = fig2.add_subplot(111)\n",
    "ax2.contourf(x, y, rv.pdf(pos))"
   ]
  },
  {
   "cell_type": "markdown",
   "metadata": {},
   "source": [
    "(b) $f(\\mu,\\Sigma)$, where $\\mu=\\Biggl[\\begin{matrix}-1\\\\1\\end{matrix}\\Biggr]$ and $\\Sigma = \\Biggl[\\begin{matrix}2 & 1\\\\ 1 & 3\\end{matrix}\\Biggr]$ "
   ]
  },
  {
   "cell_type": "code",
   "execution_count": 32,
   "metadata": {},
   "outputs": [
    {
     "data": {
      "text/plain": [
       "<matplotlib.contour.QuadContourSet at 0x5c44c10>"
      ]
     },
     "execution_count": 32,
     "metadata": {},
     "output_type": "execute_result"
    },
    {
     "data": {
      "image/png": "[encoded data removed]",
      "text/plain": [
       "<Figure size 432x288 with 1 Axes>"
      ]
     },
     "metadata": {
      "needs_background": "light"
     },
     "output_type": "display_data"
    }
   ],
   "source": [
    "x, y = np.mgrid[-3:1:.01, -2:4:.01]\n",
    "pos = np.dstack((x, y))\n",
    "rv = multivariate_normal([-1, 1], [[2, 1], [1, 3]])\n",
    "fig2 = plt.figure()\n",
    "ax2 = fig2.add_subplot(111)\n",
    "ax2.contourf(x, y, rv.pdf(pos))"
   ]
  },
  {
   "cell_type": "markdown",
   "metadata": {},
   "source": [
    "(c) $f(\\mu_1,\\Sigma_1)-f(\\mu_2,\\Sigma_2)$, where $\\mu_1=\\Biggl[\\begin{matrix}0\\\\2\\end{matrix}\\Biggr]$,$\\mu_2=\\Biggl[\\begin{matrix}2\\\\0\\end{matrix}\\Biggr]$ and \n",
    "$\\Sigma_1 = \\Sigma_2 = \\Biggl[\\begin{matrix}2 & 1\\\\ 1 & 1\\end{matrix}\\Biggr]$  "
   ]
  },
  {
   "cell_type": "code",
   "execution_count": 35,
   "metadata": {},
   "outputs": [
    {
     "data": {
      "text/plain": [
       "<matplotlib.contour.QuadContourSet at 0x11884a10>"
      ]
     },
     "execution_count": 35,
     "metadata": {},
     "output_type": "execute_result"
    },
    {
     "data": {
      "image/png": "[encoded data removed]",
      "text/plain": [
       "<Figure size 432x288 with 1 Axes>"
      ]
     },
     "metadata": {
      "needs_background": "light"
     },
     "output_type": "display_data"
    }
   ],
   "source": [
    "x, y = np.mgrid[-5:1:.01, -0.5:4:.01]\n",
    "pos = np.dstack((x, y))\n",
    "rv = multivariate_normal([-2, 2], [[4, 2], [2, 2]])\n",
    "fig2 = plt.figure()\n",
    "ax2 = fig2.add_subplot(111)\n",
    "ax2.contourf(x, y, rv.pdf(pos))"
   ]
  },
  {
   "cell_type": "markdown",
   "metadata": {},
   "source": [
    "(d) $f(\\mu_1,\\Sigma_1)-f(\\mu_2,\\Sigma_2)$, where $\\mu_1=\\Biggl[\\begin{matrix}0\\\\2\\end{matrix}\\Biggr]$,$\\mu_2=\\Biggl[\\begin{matrix}2\\\\0\\end{matrix}\\Biggr]$ and \n",
    "$\\Sigma_1 =\\Biggl[\\begin{matrix}2 & 1\\\\ 1 & 1\\end{matrix}\\Biggr],\\Sigma_2 =\\Biggl[\\begin{matrix}2 & 1\\\\ 1 & 3\\end{matrix}\\Biggr]$  "
   ]
  },
  {
   "cell_type": "code",
   "execution_count": 39,
   "metadata": {},
   "outputs": [
    {
     "data": {
      "text/plain": [
       "<matplotlib.contour.QuadContourSet at 0x1156b610>"
      ]
     },
     "execution_count": 39,
     "metadata": {},
     "output_type": "execute_result"
    },
    {
     "data": {
      "image/png": "[encoded data removed]",
      "text/plain": [
       "<Figure size 432x288 with 1 Axes>"
      ]
     },
     "metadata": {
      "needs_background": "light"
     },
     "output_type": "display_data"
    }
   ],
   "source": [
    "x, y = np.mgrid[-5:1:.01, -0.5:4:.01]\n",
    "pos = np.dstack((x, y))\n",
    "rv = multivariate_normal([-2, 2], [[4, 2], [2, 4]])\n",
    "fig2 = plt.figure()\n",
    "ax2 = fig2.add_subplot(111)\n",
    "ax2.contourf(x, y, rv.pdf(pos))"
   ]
  },
  {
   "cell_type": "markdown",
   "metadata": {},
   "source": [
    "(e) $f(\\mu_1,\\Sigma_1)-f(\\mu_2,\\Sigma_2)$, where $\\mu_1=\\Biggl[\\begin{matrix}1\\\\1\\end{matrix}\\Biggr]$,$\\mu_2=\\Biggl[\\begin{matrix}-1\\\\-1\\end{matrix}\\Biggr]$ and \n",
    "$\\Sigma_1 =\\Biggl[\\begin{matrix}2 & 0\\\\ 0 & 1\\end{matrix}\\Biggr],\\Sigma_2 =\\Biggl[\\begin{matrix}2 & 1\\\\ 1 & 2\\end{matrix}\\Biggr]$  "
   ]
  },
  {
   "cell_type": "code",
   "execution_count": 42,
   "metadata": {},
   "outputs": [
    {
     "data": {
      "text/plain": [
       "<matplotlib.contour.QuadContourSet at 0x13a882f0>"
      ]
     },
     "execution_count": 42,
     "metadata": {},
     "output_type": "execute_result"
    },
    {
     "data": {
      "image/png": "[encoded data removed]",
      "text/plain": [
       "<Figure size 432x288 with 1 Axes>"
      ]
     },
     "metadata": {
      "needs_background": "light"
     },
     "output_type": "display_data"
    }
   ],
   "source": [
    "x, y = np.mgrid[-1:5:.01, -0.5:5:.01]\n",
    "pos = np.dstack((x, y))\n",
    "rv = multivariate_normal([2, 2], [[4, 1], [1, 3]])\n",
    "fig2 = plt.figure()\n",
    "ax2 = fig2.add_subplot(111)\n",
    "ax2.contourf(x, y, rv.pdf(pos))"
   ]
  },
  {
   "cell_type": "markdown",
   "metadata": {},
   "source": [
    "# 3. Eigenvectors of the Gaussian Covariance Matrix\n"
   ]
  },
  {
   "cell_type": "code",
   "execution_count": 155,
   "metadata": {},
   "outputs": [],
   "source": [
    "n_sample = 100\n",
    "np.random.seed(420)\n",
    "x1 = [normal(3,2) for _ in range(n_sample)]\n",
    "x2 = [x/2 + normal(4,2) for x in x1]\n",
    "mu1 = sum(x1)/n_sample\n",
    "mu2 = sum(x2)/n_sample\n",
    "mean = [mu1,mu2]\n",
    "cov = np.cov(x1,x2)"
   ]
  },
  {
   "cell_type": "markdown",
   "metadata": {},
   "source": [
    "(a) \n",
    "\n",
    "$\\mu_{X_1}=2.7197025978300156$ \n",
    "\n",
    "$\\mu_{X_2}=5.629518899604718$\n",
    "\n",
    "$\\mu=\\Biggl[\\begin{matrix}2.72\\\\5.63\\end{matrix}\\Biggr]$"
   ]
  },
  {
   "cell_type": "markdown",
   "metadata": {},
   "source": [
    "(b)\n",
    "\n",
    "$\\Sigma =\\Biggl[\\begin{matrix}3.83832134 & 2.25925644\\\\ 2.25925644 & 4.39339117\\end{matrix}\\Biggr]$"
   ]
  },
  {
   "cell_type": "markdown",
   "metadata": {},
   "source": [
    "(c) Compute the eigenvectors and eigenvalues of this covariance matrix."
   ]
  },
  {
   "cell_type": "code",
   "execution_count": 177,
   "metadata": {},
   "outputs": [
    {
     "name": "stdout",
     "output_type": "stream",
     "text": [
      "w1 1.8397162210028557 \n",
      "v1 [-0.74897672 -0.66259631]\n",
      "\n",
      "w2 6.391996290192704 \n",
      "v2 [ 0.66259631 -0.74897672]\n"
     ]
    }
   ],
   "source": [
    "w, v = LA.eig(cov)\n",
    "v1, v2 = v[0], v[1]\n",
    "w1, w2 = w[0], w[1]\n",
    "print('w1 ' + str(w1), '\\nv1 ' + str(v1)+'\\n')\n",
    "print('w2 ' + str(w2), '\\nv2 ' + str(v2))"
   ]
  },
  {
   "cell_type": "code",
   "execution_count": 209,
   "metadata": {
    "scrolled": true
   },
   "outputs": [
    {
     "data": {
      "image/png": "[encoded data removed]",
      "text/plain": [
       "<Figure size 432x288 with 1 Axes>"
      ]
     },
     "metadata": {
      "needs_background": "light"
     },
     "output_type": "display_data"
    }
   ],
   "source": [
    "plt.xlim(-15, 15)\n",
    "plt.ylim(-15, 15)\n",
    "plt.xlabel('X1')\n",
    "plt.ylabel('X2')\n",
    "plt.title('100 samples')\n",
    "plt.scatter(x1, x2)\n",
    "origin = [mu1], [mu2]\n",
    "plt.quiver(*origin, v1[0], v1[1], color='r',angles='xy', scale_units='xy', scale=1)\n",
    "plt.quiver(*origin, v2[0], v2[1], color='r',angles='xy', scale_units='xy', scale=1)\n",
    "\n",
    "\n",
    "\n",
    "plt.show()"
   ]
  },
  {
   "cell_type": "code",
   "execution_count": null,
   "metadata": {},
   "outputs": [],
   "source": []
  }
 ],
 "metadata": {
  "kernelspec": {
   "display_name": "Python 3",
   "language": "python",
   "name": "python3"
  },
  "language_info": {
   "codemirror_mode": {
    "name": "ipython",
    "version": 3
   },
   "file_extension": ".py",
   "mimetype": "text/x-python",
   "name": "python",
   "nbconvert_exporter": "python",
   "pygments_lexer": "ipython3",
   "version": "3.7.2"
  }
 },
 "nbformat": 4,
 "nbformat_minor": 2
}
